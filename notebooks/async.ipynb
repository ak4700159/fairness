{
 "cells": [
  {
   "cell_type": "markdown",
   "id": "a3572043",
   "metadata": {},
   "source": [
    "## 파이썬 비동기 방식으로 구현하기\n",
    "asyncio는 async/await 구문을 사용하여 동시성 코드를 작성할 수 있게 해주는 모듈로, asyncio를 사용하면 단일 스레드 작업을 병렬로 처리할 수 있다."
   ]
  },
  {
   "cell_type": "code",
   "execution_count": 1,
   "id": "6fb56287",
   "metadata": {},
   "outputs": [
    {
     "name": "stdout",
     "output_type": "stream",
     "text": [
      "작업중=A, number=1, total=1\n",
      "작업중=A, number=2, total=3\n",
      "작업명=A, 걸린시간=2.0231873989105225\n",
      "작업중=B, number=1, total=1\n",
      "작업중=B, number=2, total=3\n",
      "작업중=B, number=3, total=6\n",
      "작업명=B, 걸린시간=3.037264585494995\n",
      "총합=9, 총시간=5.060451984405518\n"
     ]
    }
   ],
   "source": [
    "import time\n",
    "\n",
    "\n",
    "def sleep():\n",
    "    time.sleep(1)\n",
    "\n",
    "\n",
    "def sum(name, numbers):\n",
    "    start = time.time()\n",
    "    total = 0\n",
    "    for number in numbers:\n",
    "        sleep()\n",
    "        total += number\n",
    "        print(f'작업중={name}, number={number}, total={total}')\n",
    "    end = time.time()\n",
    "    print(f'작업명={name}, 걸린시간={end-start}')\n",
    "    return total\n",
    "\n",
    "\n",
    "def main():\n",
    "    start = time.time()\n",
    "\n",
    "    result1 = sum(\"A\", [1, 2])\n",
    "    result2 = sum(\"B\", [1, 2, 3])\n",
    "\n",
    "    end = time.time()\n",
    "    print(f'총합={result1+result2}, 총시간={end-start}')\n",
    "\n",
    "\n",
    "if __name__ == \"__main__\":\n",
    "    main()\n"
   ]
  },
  {
   "cell_type": "code",
   "execution_count": 3,
   "id": "ed12d06a",
   "metadata": {},
   "outputs": [
    {
     "ename": "RuntimeError",
     "evalue": "asyncio.run() cannot be called from a running event loop",
     "output_type": "error",
     "traceback": [
      "\u001b[1;31m---------------------------------------------------------------------------\u001b[0m",
      "\u001b[1;31mRuntimeError\u001b[0m                              Traceback (most recent call last)",
      "Cell \u001b[1;32mIn[3], line 38\u001b[0m\n\u001b[0;32m     34\u001b[0m     \u001b[38;5;28mprint\u001b[39m(\u001b[38;5;124mf\u001b[39m\u001b[38;5;124m'\u001b[39m\u001b[38;5;124m총합=\u001b[39m\u001b[38;5;132;01m{\u001b[39;00mresult1\u001b[38;5;241m+\u001b[39mresult2\u001b[38;5;132;01m}\u001b[39;00m\u001b[38;5;124m, 총시간=\u001b[39m\u001b[38;5;132;01m{\u001b[39;00mend\u001b[38;5;241m-\u001b[39mstart\u001b[38;5;132;01m}\u001b[39;00m\u001b[38;5;124m'\u001b[39m)\n\u001b[0;32m     37\u001b[0m \u001b[38;5;28;01mif\u001b[39;00m \u001b[38;5;18m__name__\u001b[39m \u001b[38;5;241m==\u001b[39m \u001b[38;5;124m\"\u001b[39m\u001b[38;5;124m__main__\u001b[39m\u001b[38;5;124m\"\u001b[39m:\n\u001b[1;32m---> 38\u001b[0m     \u001b[43masyncio\u001b[49m\u001b[38;5;241;43m.\u001b[39;49m\u001b[43mrun\u001b[49m\u001b[43m(\u001b[49m\u001b[43mmain\u001b[49m\u001b[43m(\u001b[49m\u001b[43m)\u001b[49m\u001b[43m)\u001b[49m\n",
      "File \u001b[1;32mc:\\Program Files\\Python310\\lib\\asyncio\\runners.py:33\u001b[0m, in \u001b[0;36mrun\u001b[1;34m(main, debug)\u001b[0m\n\u001b[0;32m      9\u001b[0m \u001b[38;5;250m\u001b[39m\u001b[38;5;124;03m\"\"\"Execute the coroutine and return the result.\u001b[39;00m\n\u001b[0;32m     10\u001b[0m \n\u001b[0;32m     11\u001b[0m \u001b[38;5;124;03mThis function runs the passed coroutine, taking care of\u001b[39;00m\n\u001b[1;32m   (...)\u001b[0m\n\u001b[0;32m     30\u001b[0m \u001b[38;5;124;03m    asyncio.run(main())\u001b[39;00m\n\u001b[0;32m     31\u001b[0m \u001b[38;5;124;03m\"\"\"\u001b[39;00m\n\u001b[0;32m     32\u001b[0m \u001b[38;5;28;01mif\u001b[39;00m events\u001b[38;5;241m.\u001b[39m_get_running_loop() \u001b[38;5;129;01mis\u001b[39;00m \u001b[38;5;129;01mnot\u001b[39;00m \u001b[38;5;28;01mNone\u001b[39;00m:\n\u001b[1;32m---> 33\u001b[0m     \u001b[38;5;28;01mraise\u001b[39;00m \u001b[38;5;167;01mRuntimeError\u001b[39;00m(\n\u001b[0;32m     34\u001b[0m         \u001b[38;5;124m\"\u001b[39m\u001b[38;5;124masyncio.run() cannot be called from a running event loop\u001b[39m\u001b[38;5;124m\"\u001b[39m)\n\u001b[0;32m     36\u001b[0m \u001b[38;5;28;01mif\u001b[39;00m \u001b[38;5;129;01mnot\u001b[39;00m coroutines\u001b[38;5;241m.\u001b[39miscoroutine(main):\n\u001b[0;32m     37\u001b[0m     \u001b[38;5;28;01mraise\u001b[39;00m \u001b[38;5;167;01mValueError\u001b[39;00m(\u001b[38;5;124m\"\u001b[39m\u001b[38;5;124ma coroutine was expected, got \u001b[39m\u001b[38;5;132;01m{!r}\u001b[39;00m\u001b[38;5;124m\"\u001b[39m\u001b[38;5;241m.\u001b[39mformat(main))\n",
      "\u001b[1;31mRuntimeError\u001b[0m: asyncio.run() cannot be called from a running event loop"
     ]
    }
   ],
   "source": [
    "import asyncio\n",
    "import time\n",
    "\n",
    "\n",
    "async def sleep():\n",
    "    await asyncio.sleep(1)\n",
    "\n",
    "\n",
    "async def sum(name, numbers):\n",
    "    start = time.time()\n",
    "    total = 0\n",
    "    for number in numbers:\n",
    "        await sleep()\n",
    "        total += number\n",
    "        print(f'작업중={name}, number={number}, total={total}')\n",
    "    end = time.time()\n",
    "    print(f'작업명={name}, 걸린시간={end-start}')\n",
    "    return total\n",
    "\n",
    "\n",
    "async def main():\n",
    "    start = time.time()\n",
    "\n",
    "    task1 = asyncio.create_task(sum(\"A\", [1, 2]))\n",
    "    task2 = asyncio.create_task(sum(\"B\", [1, 2, 3]))\n",
    "\n",
    "    await task1\n",
    "    await task2\n",
    "\n",
    "    result1 = task1.result()\n",
    "    result2 = task2.result()\n",
    "\n",
    "    end = time.time()\n",
    "    print(f'총합={result1+result2}, 총시간={end-start}')\n",
    "\n",
    "\n",
    "if __name__ == \"__main__\":\n",
    "    asyncio.run(main())\n"
   ]
  }
 ],
 "metadata": {
  "kernelspec": {
   "display_name": "fairness",
   "language": "python",
   "name": "fairness"
  },
  "language_info": {
   "codemirror_mode": {
    "name": "ipython",
    "version": 3
   },
   "file_extension": ".py",
   "mimetype": "text/x-python",
   "name": "python",
   "nbconvert_exporter": "python",
   "pygments_lexer": "ipython3",
   "version": "3.10.11"
  }
 },
 "nbformat": 4,
 "nbformat_minor": 5
}
