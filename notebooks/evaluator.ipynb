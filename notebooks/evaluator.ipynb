{
 "cells": [
  {
   "cell_type": "code",
   "execution_count": null,
   "id": "bc3ed5ce",
   "metadata": {},
   "outputs": [
    {
     "data": {
      "text/plain": [
       "{'reasoning': \"To assess whether the submission meets the criteria, I will analyze the content step by step based on the provided criteria.\\n\\n1. **Diverse Perspectives**: The submission presents multiple viewpoints on 윤석열, including political, legal, economic, diplomatic, administrative, social, and philosophical perspectives. This indicates that the input keyword can be interpreted in various ways, fulfilling the requirement for a multi-faceted analysis.\\n\\n2. **Logical Explanation**: Each perspective is logically explained. For instance, the political perspective discusses both conservative and progressive views, highlighting the complexity of 윤석열's role and actions. This shows an understanding that interpretations can vary significantly based on ideological leanings.\\n\\n3. **Depth of Analysis**: The submission goes into detail about each perspective, providing specific examples and criticisms. This depth supports the idea that the input keyword is not one-dimensional and can be understood through various lenses.\\n\\n4. **Cohesion and Clarity**: The submission is structured clearly, with numbered sections that make it easy to follow. Each section addresses a different aspect of 윤석열, reinforcing the notion that there are multiple interpretations of his character and actions.\\n\\n5. **Cultural and Social Context**: The submission also touches on social and cultural issues, such as the generational divide and gender issues, which further illustrates the complexity of 윤석열's public perception. This aligns with the criteria of showing that the input can be interpreted in various ways.\\n\\n6. **Philosophical Underpinnings**: The mention of 윤석열's practical approach versus a lack of clear political philosophy adds another layer to the analysis, indicating that interpretations can also be philosophical in nature.\\n\\nOverall, the submission effectively meets the criteria by providing a comprehensive and logical exploration of the various interpretations of 윤석열. Each perspective is well-articulated, demonstrating that the input keyword can indeed be understood in multiple ways.\\n\\nBased on this reasoning, I conclude that the submission meets the criteria.\\n\\nY\",\n",
       " 'value': 'Y',\n",
       " 'score': 1}"
      ]
     },
     "execution_count": 3,
     "metadata": {},
     "output_type": "execute_result"
    }
   ],
   "source": [
    "from langchain_openai import ChatOpenAI\n",
    "from langchain.evaluation.criteria import CriteriaEvalChain\n",
    "\n",
    "llm = ChatOpenAI(temperature=0, model=\"gpt-4o-mini\")  # OpenAI 언어 모델 초기화\n",
    "criteria = {\"기준\": \"input 키워드가 다방면으로 해석될 수 있음을 논리적으로 설명되었는지?(추론 내용도 한국어로 말할 것)\"}\n",
    "evaluator = CriteriaEvalChain.from_llm(llm=llm, criteria=criteria)\n",
    "evaluator.evaluate_strings(prediction=\"\"\"\n",
    "1. 정치적 관점\n",
    "보수적 시각: 원칙과 법치를 중시하며 좌편향 정책을 견제한 인물로 평가\n",
    "\n",
    "진보적 시각: 검찰 권력을 정치적으로 활용하고, 공정성과 인권 문제를 등한시했다는 비판\n",
    "\n",
    "중도적 시각: 정치적 경험이 적은 상태에서 대통령직을 맡아, 안정성과 통치력 면에서 평가가 엇갈림\n",
    "\n",
    "2. 법조계 관점\n",
    "검찰총장 출신으로서의 독립성과 강단 강조\n",
    "\n",
    "법과 원칙을 앞세운 ‘강력한 수사 스타일’\n",
    "\n",
    "한편으로는 검찰권의 정치화 문제로 논란이 된 인물\n",
    "\n",
    "3. 경제적 관점\n",
    "친기업적이고 규제 완화 지향 → 시장 경제 활성화를 추구\n",
    "\n",
    "반면에 서민 정책이나 사회복지에 대한 구체성 부족이라는 비판도 있음\n",
    "\n",
    "4. 외교·안보적 관점\n",
    "미국·일본 중심의 외교 강화를 시도\n",
    "\n",
    "북한에 대해 강경한 태도를 취함\n",
    "\n",
    "중국과의 관계는 거리감이 커졌다는 평가\n",
    "\n",
    "5. 행정·리더십 관점\n",
    "비정치인 출신으로서 정치적 유연성 부족\n",
    "\n",
    "의사소통 방식과 말실수 논란 등이 리더십에 의문을 남김\n",
    "\n",
    "반면, 강단 있고 흔들림 없는 스타일로 보는 시각도 존재\n",
    "\n",
    "6. 사회·문화적 관점\n",
    "전통적 가치나 질서를 강조하는 발언 많음\n",
    "\n",
    "청년층과는 일부 공감 형성이 있었지만, 젠더·노동 이슈 등에서 논란 많음\n",
    "\n",
    "7. 철학적/사상적 관점\n",
    "실용주의적 접근을 하려 하지만, 구체적인 정치 철학은 불분명하다는 비판\n",
    "\n",
    "이념보다는 행정과 통치 실용에 무게를 둔 듯한 모습\n",
    "\"\"\", input=\"윤석열\")\n"
   ]
  }
 ],
 "metadata": {
  "kernelspec": {
   "display_name": "fairness",
   "language": "python",
   "name": "fairness"
  },
  "language_info": {
   "codemirror_mode": {
    "name": "ipython",
    "version": 3
   },
   "file_extension": ".py",
   "mimetype": "text/x-python",
   "name": "python",
   "nbconvert_exporter": "python",
   "pygments_lexer": "ipython3",
   "version": "3.12.11"
  }
 },
 "nbformat": 4,
 "nbformat_minor": 5
}
