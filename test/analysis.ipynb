{
 "cells": [
  {
   "cell_type": "markdown",
   "id": "f64786d4",
   "metadata": {},
   "source": [
    "### Prompt Template 적응하기"
   ]
  },
  {
   "cell_type": "code",
   "execution_count": null,
   "id": "4709f3e7",
   "metadata": {},
   "outputs": [],
   "source": [
    "from langchain_openai import ChatOpenAI\n",
    "from langchain_core.prompts import ChatPromptTemplate\n",
    "from langchain_core.output_parsers import StrOutputParser\n",
    "\n",
    "prompt1 = ChatPromptTemplate.from_template(\"translates {korean_word} to English.\")\n",
    "prompt2 = ChatPromptTemplate.from_template(\n",
    "    \"explain {english_word} using oxford dictionary to me in Korean.\"\n",
    ")\n",
    "llm = ChatOpenAI(model=\"gpt-4o-mini\")\n",
    "chain1 = prompt1 | llm | StrOutputParser()\n",
    "chain2 = (\n",
    "    {\"english_word\": chain1}\n",
    "    | prompt2\n",
    "    | llm\n",
    "    | StrOutputParser()\n",
    ")\n",
    "print(chain2.invoke({\"korean_word\":\"미래\"}))"
   ]
  }
 ],
 "metadata": {
  "kernelspec": {
   "display_name": "fairness",
   "language": "python",
   "name": "fairness"
  },
  "language_info": {
   "name": "python",
   "version": "3.10.11"
  }
 },
 "nbformat": 4,
 "nbformat_minor": 5
}
